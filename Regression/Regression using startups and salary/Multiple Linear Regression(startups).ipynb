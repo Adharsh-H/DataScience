{
 "cells": [
  {
   "cell_type": "code",
   "execution_count": 6,
   "id": "a919aab9",
   "metadata": {},
   "outputs": [
    {
     "name": "stdout",
     "output_type": "stream",
     "text": [
      "R2 score: 0.9347068473282423\n"
     ]
    }
   ],
   "source": [
    "import numpy as np\n",
    "import matplotlib.pyplot as plt\n",
    "import pandas as pd\n",
    "from sklearn.model_selection import train_test_split\n",
    "from sklearn.linear_model import LinearRegression\n",
    "from sklearn.metrics import r2_score\n",
    "dataset = pd.read_csv('startups.csv')\n",
    "x = dataset.iloc[:, :-1]\n",
    "y = dataset.iloc[:,4]\n",
    "d=pd.get_dummies(x['State'], drop_first=True)\n",
    "x = x.drop('State',axis=1)\n",
    "x = pd.concat([x,d],axis=1)\n",
    "x_train, x_test, y_train, y_test = train_test_split(x, y, test_size = 0.2, random_state = 0)\n",
    "a = LinearRegression()\n",
    "a.fit(x_train, y_train)\n",
    "y_pred = a.predict(x_test)\n",
    "score=r2_score(y_test,y_pred)\n",
    "print('R2 score:',score)"
   ]
  },
  {
   "cell_type": "code",
   "execution_count": null,
   "id": "3f476618",
   "metadata": {},
   "outputs": [],
   "source": []
  }
 ],
 "metadata": {
  "kernelspec": {
   "display_name": "Python 3",
   "language": "python",
   "name": "python3"
  },
  "language_info": {
   "codemirror_mode": {
    "name": "ipython",
    "version": 3
   },
   "file_extension": ".py",
   "mimetype": "text/x-python",
   "name": "python",
   "nbconvert_exporter": "python",
   "pygments_lexer": "ipython3",
   "version": "3.8.8"
  }
 },
 "nbformat": 4,
 "nbformat_minor": 5
}
